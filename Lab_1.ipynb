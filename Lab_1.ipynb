{
  "nbformat": 4,
  "nbformat_minor": 0,
  "metadata": {
    "colab": {
      "name": "FSDL_Lab_1.ipynb",
      "provenance": [],
      "collapsed_sections": [
        "-A9UByYQ15oQ"
      ],
      "toc_visible": true
    },
    "kernelspec": {
      "name": "python3",
      "display_name": "Python 3"
    },
    "accelerator": "GPU"
  },
  "cells": [
    {
      "cell_type": "markdown",
      "metadata": {
        "id": "K6DCnCKR1zkb"
      },
      "source": [
        "# Lecture:\n",
        "https://fullstackdeeplearning.com/spring2021/lab-1/"
      ]
    },
    {
      "cell_type": "markdown",
      "metadata": {
        "id": "x5PUn9K9yL5H"
      },
      "source": [
        "# Purpose:\n",
        "Formulate a problem, create a structured codebase to address it, train an MLP on MNIST data.\n",
        "\n",
        "# Goals:\n",
        "* Understand the problem and a path to a solution\n",
        "* Set up a computing environment\n",
        "* Review codebase and train on MNIST data\n",
        "\n",
        "# Project Outline:\n",
        "We want to build a tool to read handwritten paragraphs and accurately transcribe them to text. \n",
        "\n",
        "Note, the github also contains info for a local setup on a Linux workstation with GPU."
      ]
    },
    {
      "cell_type": "markdown",
      "metadata": {
        "id": "-A9UByYQ15oQ"
      },
      "source": [
        "# Environment Setup"
      ]
    },
    {
      "cell_type": "code",
      "metadata": {
        "colab": {
          "base_uri": "https://localhost:8080/"
        },
        "id": "DJ07GGsXsR1n",
        "outputId": "8a4b7b49-954a-4e86-90dd-36bc679d7ff3"
      },
      "source": [
        "!nvidia-smi"
      ],
      "execution_count": 3,
      "outputs": [
        {
          "output_type": "stream",
          "text": [
            "Mon Mar  8 03:01:36 2021       \n",
            "+-----------------------------------------------------------------------------+\n",
            "| NVIDIA-SMI 460.39       Driver Version: 460.32.03    CUDA Version: 11.2     |\n",
            "|-------------------------------+----------------------+----------------------+\n",
            "| GPU  Name        Persistence-M| Bus-Id        Disp.A | Volatile Uncorr. ECC |\n",
            "| Fan  Temp  Perf  Pwr:Usage/Cap|         Memory-Usage | GPU-Util  Compute M. |\n",
            "|                               |                      |               MIG M. |\n",
            "|===============================+======================+======================|\n",
            "|   0  Tesla T4            Off  | 00000000:00:04.0 Off |                    0 |\n",
            "| N/A   38C    P8     9W /  70W |      0MiB / 15109MiB |      0%      Default |\n",
            "|                               |                      |                  N/A |\n",
            "+-------------------------------+----------------------+----------------------+\n",
            "                                                                               \n",
            "+-----------------------------------------------------------------------------+\n",
            "| Processes:                                                                  |\n",
            "|  GPU   GI   CI        PID   Type   Process name                  GPU Memory |\n",
            "|        ID   ID                                                   Usage      |\n",
            "|=============================================================================|\n",
            "|  No running processes found                                                 |\n",
            "+-----------------------------------------------------------------------------+\n"
          ],
          "name": "stdout"
        }
      ]
    },
    {
      "cell_type": "code",
      "metadata": {
        "colab": {
          "base_uri": "https://localhost:8080/"
        },
        "id": "-ZH2ZoELsc3n",
        "outputId": "9870a75d-a57d-461f-cf00-46325e43c00f"
      },
      "source": [
        "# FSDL Spring 2021 Setup\n",
        "!git clone https://github.com/full-stack-deep-learning/fsdl-text-recognizer-2021-labs\n",
        "%cd fsdl-text-recognizer-2021-labs\n",
        "!pip install boltons pytorch_lightning==1.1.4 wandb\n",
        "%env PYTHONPATH=.:$PYTHONPATH"
      ],
      "execution_count": 2,
      "outputs": [
        {
          "output_type": "stream",
          "text": [
            "Cloning into 'fsdl-text-recognizer-2021-labs'...\n",
            "remote: Enumerating objects: 354, done.\u001b[K\n",
            "remote: Counting objects: 100% (354/354), done.\u001b[K\n",
            "remote: Compressing objects: 100% (239/239), done.\u001b[K\n",
            "remote: Total 354 (delta 158), reused 296 (delta 109), pack-reused 0\u001b[K\n",
            "Receiving objects: 100% (354/354), 3.83 MiB | 35.04 MiB/s, done.\n",
            "Resolving deltas: 100% (158/158), done.\n",
            "/content/fsdl-text-recognizer-2021-labs\n",
            "Collecting boltons\n",
            "\u001b[?25l  Downloading https://files.pythonhosted.org/packages/71/e1/e7979a4a6d4b296b5935e926549fff540f7670ddaf09bbf137e2b022c039/boltons-20.2.1-py2.py3-none-any.whl (170kB)\n",
            "\u001b[K     |████████████████████████████████| 174kB 18.1MB/s \n",
            "\u001b[?25hCollecting pytorch_lightning==1.1.4\n",
            "\u001b[?25l  Downloading https://files.pythonhosted.org/packages/12/98/86a89dcd54f84582bbf24cb29cd104b966fcf934d92d5dfc626f225015d2/pytorch_lightning-1.1.4-py3-none-any.whl (684kB)\n",
            "\u001b[K     |████████████████████████████████| 686kB 40.9MB/s \n",
            "\u001b[?25hCollecting wandb\n",
            "\u001b[?25l  Downloading https://files.pythonhosted.org/packages/00/17/b1e27f77c3d47f6915a774ecf632e3f5a7d49d9fa3991547729e7f19bedd/wandb-0.10.21-py2.py3-none-any.whl (2.0MB)\n",
            "\u001b[K     |████████████████████████████████| 2.0MB 47.1MB/s \n",
            "\u001b[?25hCollecting future>=0.17.1\n",
            "\u001b[?25l  Downloading https://files.pythonhosted.org/packages/45/0b/38b06fd9b92dc2b68d58b75f900e97884c45bedd2ff83203d933cf5851c9/future-0.18.2.tar.gz (829kB)\n",
            "\u001b[K     |████████████████████████████████| 829kB 36.7MB/s \n",
            "\u001b[?25hRequirement already satisfied: numpy>=1.16.6 in /usr/local/lib/python3.7/dist-packages (from pytorch_lightning==1.1.4) (1.19.5)\n",
            "Collecting fsspec[http]>=0.8.1\n",
            "\u001b[?25l  Downloading https://files.pythonhosted.org/packages/91/0d/a6bfee0ddf47b254286b9bd574e6f50978c69897647ae15b14230711806e/fsspec-0.8.7-py3-none-any.whl (103kB)\n",
            "\u001b[K     |████████████████████████████████| 112kB 51.6MB/s \n",
            "\u001b[?25hRequirement already satisfied: tqdm>=4.41.0 in /usr/local/lib/python3.7/dist-packages (from pytorch_lightning==1.1.4) (4.41.1)\n",
            "Collecting PyYAML>=5.1\n",
            "\u001b[?25l  Downloading https://files.pythonhosted.org/packages/7a/a5/393c087efdc78091afa2af9f1378762f9821c9c1d7a22c5753fb5ac5f97a/PyYAML-5.4.1-cp37-cp37m-manylinux1_x86_64.whl (636kB)\n",
            "\u001b[K     |████████████████████████████████| 645kB 39.9MB/s \n",
            "\u001b[?25hRequirement already satisfied: torch>=1.3 in /usr/local/lib/python3.7/dist-packages (from pytorch_lightning==1.1.4) (1.7.1+cu101)\n",
            "Requirement already satisfied: tensorboard>=2.2.0 in /usr/local/lib/python3.7/dist-packages (from pytorch_lightning==1.1.4) (2.4.1)\n",
            "Requirement already satisfied: protobuf>=3.12.0 in /usr/local/lib/python3.7/dist-packages (from wandb) (3.12.4)\n",
            "Requirement already satisfied: Click>=7.0 in /usr/local/lib/python3.7/dist-packages (from wandb) (7.1.2)\n",
            "Requirement already satisfied: python-dateutil>=2.6.1 in /usr/local/lib/python3.7/dist-packages (from wandb) (2.8.1)\n",
            "Requirement already satisfied: requests<3,>=2.0.0 in /usr/local/lib/python3.7/dist-packages (from wandb) (2.23.0)\n",
            "Collecting docker-pycreds>=0.4.0\n",
            "  Downloading https://files.pythonhosted.org/packages/f5/e8/f6bd1eee09314e7e6dee49cbe2c5e22314ccdb38db16c9fc72d2fa80d054/docker_pycreds-0.4.0-py2.py3-none-any.whl\n",
            "Collecting shortuuid>=0.5.0\n",
            "  Downloading https://files.pythonhosted.org/packages/25/a6/2ecc1daa6a304e7f1b216f0896b26156b78e7c38e1211e9b798b4716c53d/shortuuid-1.0.1-py3-none-any.whl\n",
            "Requirement already satisfied: promise<3,>=2.0 in /usr/local/lib/python3.7/dist-packages (from wandb) (2.3)\n",
            "Collecting configparser>=3.8.1\n",
            "  Downloading https://files.pythonhosted.org/packages/fd/01/ff260a18caaf4457eb028c96eeb405c4a230ca06c8ec9c1379f813caa52e/configparser-5.0.2-py3-none-any.whl\n",
            "Requirement already satisfied: psutil>=5.0.0 in /usr/local/lib/python3.7/dist-packages (from wandb) (5.4.8)\n",
            "Requirement already satisfied: six>=1.13.0 in /usr/local/lib/python3.7/dist-packages (from wandb) (1.15.0)\n",
            "Collecting sentry-sdk>=0.4.0\n",
            "\u001b[?25l  Downloading https://files.pythonhosted.org/packages/f3/92/5a33be64990ba815364a8f2dd9e6f51de60d23dfddafb4f1fc5577d4dc64/sentry_sdk-1.0.0-py2.py3-none-any.whl (131kB)\n",
            "\u001b[K     |████████████████████████████████| 133kB 53.2MB/s \n",
            "\u001b[?25hCollecting subprocess32>=3.5.3\n",
            "\u001b[?25l  Downloading https://files.pythonhosted.org/packages/32/c8/564be4d12629b912ea431f1a50eb8b3b9d00f1a0b1ceff17f266be190007/subprocess32-3.5.4.tar.gz (97kB)\n",
            "\u001b[K     |████████████████████████████████| 102kB 12.1MB/s \n",
            "\u001b[?25hCollecting pathtools\n",
            "  Downloading https://files.pythonhosted.org/packages/e7/7f/470d6fcdf23f9f3518f6b0b76be9df16dcc8630ad409947f8be2eb0ed13a/pathtools-0.1.2.tar.gz\n",
            "Collecting GitPython>=1.0.0\n",
            "\u001b[?25l  Downloading https://files.pythonhosted.org/packages/a6/99/98019716955ba243657daedd1de8f3a88ca1f5b75057c38e959db22fb87b/GitPython-3.1.14-py3-none-any.whl (159kB)\n",
            "\u001b[K     |████████████████████████████████| 163kB 54.5MB/s \n",
            "\u001b[?25hRequirement already satisfied: importlib-metadata; python_version < \"3.8\" in /usr/local/lib/python3.7/dist-packages (from fsspec[http]>=0.8.1->pytorch_lightning==1.1.4) (3.7.0)\n",
            "Collecting aiohttp; extra == \"http\"\n",
            "\u001b[?25l  Downloading https://files.pythonhosted.org/packages/88/c0/5890b4c8b04a79b7360e8fe4490feb0bb3ab179743f199f0e6220cebd568/aiohttp-3.7.4.post0-cp37-cp37m-manylinux2014_x86_64.whl (1.3MB)\n",
            "\u001b[K     |████████████████████████████████| 1.3MB 51.4MB/s \n",
            "\u001b[?25hRequirement already satisfied: typing-extensions in /usr/local/lib/python3.7/dist-packages (from torch>=1.3->pytorch_lightning==1.1.4) (3.7.4.3)\n",
            "Requirement already satisfied: tensorboard-plugin-wit>=1.6.0 in /usr/local/lib/python3.7/dist-packages (from tensorboard>=2.2.0->pytorch_lightning==1.1.4) (1.8.0)\n",
            "Requirement already satisfied: grpcio>=1.24.3 in /usr/local/lib/python3.7/dist-packages (from tensorboard>=2.2.0->pytorch_lightning==1.1.4) (1.32.0)\n",
            "Requirement already satisfied: markdown>=2.6.8 in /usr/local/lib/python3.7/dist-packages (from tensorboard>=2.2.0->pytorch_lightning==1.1.4) (3.3.4)\n",
            "Requirement already satisfied: werkzeug>=0.11.15 in /usr/local/lib/python3.7/dist-packages (from tensorboard>=2.2.0->pytorch_lightning==1.1.4) (1.0.1)\n",
            "Requirement already satisfied: setuptools>=41.0.0 in /usr/local/lib/python3.7/dist-packages (from tensorboard>=2.2.0->pytorch_lightning==1.1.4) (54.0.0)\n",
            "Requirement already satisfied: google-auth-oauthlib<0.5,>=0.4.1 in /usr/local/lib/python3.7/dist-packages (from tensorboard>=2.2.0->pytorch_lightning==1.1.4) (0.4.2)\n",
            "Requirement already satisfied: google-auth<2,>=1.6.3 in /usr/local/lib/python3.7/dist-packages (from tensorboard>=2.2.0->pytorch_lightning==1.1.4) (1.27.0)\n",
            "Requirement already satisfied: absl-py>=0.4 in /usr/local/lib/python3.7/dist-packages (from tensorboard>=2.2.0->pytorch_lightning==1.1.4) (0.10.0)\n",
            "Requirement already satisfied: wheel>=0.26; python_version >= \"3\" in /usr/local/lib/python3.7/dist-packages (from tensorboard>=2.2.0->pytorch_lightning==1.1.4) (0.36.2)\n",
            "Requirement already satisfied: urllib3!=1.25.0,!=1.25.1,<1.26,>=1.21.1 in /usr/local/lib/python3.7/dist-packages (from requests<3,>=2.0.0->wandb) (1.24.3)\n",
            "Requirement already satisfied: certifi>=2017.4.17 in /usr/local/lib/python3.7/dist-packages (from requests<3,>=2.0.0->wandb) (2020.12.5)\n",
            "Requirement already satisfied: chardet<4,>=3.0.2 in /usr/local/lib/python3.7/dist-packages (from requests<3,>=2.0.0->wandb) (3.0.4)\n",
            "Requirement already satisfied: idna<3,>=2.5 in /usr/local/lib/python3.7/dist-packages (from requests<3,>=2.0.0->wandb) (2.10)\n",
            "Collecting gitdb<5,>=4.0.1\n",
            "\u001b[?25l  Downloading https://files.pythonhosted.org/packages/48/11/d1800bca0a3bae820b84b7d813ad1eff15a48a64caea9c823fc8c1b119e8/gitdb-4.0.5-py3-none-any.whl (63kB)\n",
            "\u001b[K     |████████████████████████████████| 71kB 12.3MB/s \n",
            "\u001b[?25hRequirement already satisfied: zipp>=0.5 in /usr/local/lib/python3.7/dist-packages (from importlib-metadata; python_version < \"3.8\"->fsspec[http]>=0.8.1->pytorch_lightning==1.1.4) (3.4.0)\n",
            "Collecting async-timeout<4.0,>=3.0\n",
            "  Downloading https://files.pythonhosted.org/packages/e1/1e/5a4441be21b0726c4464f3f23c8b19628372f606755a9d2e46c187e65ec4/async_timeout-3.0.1-py3-none-any.whl\n",
            "Collecting yarl<2.0,>=1.0\n",
            "\u001b[?25l  Downloading https://files.pythonhosted.org/packages/f1/62/046834c5fc998c88ab2ef722f5d42122230a632212c8afa76418324f53ff/yarl-1.6.3-cp37-cp37m-manylinux2014_x86_64.whl (294kB)\n",
            "\u001b[K     |████████████████████████████████| 296kB 53.9MB/s \n",
            "\u001b[?25hRequirement already satisfied: attrs>=17.3.0 in /usr/local/lib/python3.7/dist-packages (from aiohttp; extra == \"http\"->fsspec[http]>=0.8.1->pytorch_lightning==1.1.4) (20.3.0)\n",
            "Collecting multidict<7.0,>=4.5\n",
            "\u001b[?25l  Downloading https://files.pythonhosted.org/packages/7c/a6/4123b8165acbe773d1a8dc8e3f0d1edea16d29f7de018eda769abb56bd30/multidict-5.1.0-cp37-cp37m-manylinux2014_x86_64.whl (142kB)\n",
            "\u001b[K     |████████████████████████████████| 143kB 55.2MB/s \n",
            "\u001b[?25hRequirement already satisfied: requests-oauthlib>=0.7.0 in /usr/local/lib/python3.7/dist-packages (from google-auth-oauthlib<0.5,>=0.4.1->tensorboard>=2.2.0->pytorch_lightning==1.1.4) (1.3.0)\n",
            "Requirement already satisfied: rsa<5,>=3.1.4; python_version >= \"3.6\" in /usr/local/lib/python3.7/dist-packages (from google-auth<2,>=1.6.3->tensorboard>=2.2.0->pytorch_lightning==1.1.4) (4.7.2)\n",
            "Requirement already satisfied: cachetools<5.0,>=2.0.0 in /usr/local/lib/python3.7/dist-packages (from google-auth<2,>=1.6.3->tensorboard>=2.2.0->pytorch_lightning==1.1.4) (4.2.1)\n",
            "Requirement already satisfied: pyasn1-modules>=0.2.1 in /usr/local/lib/python3.7/dist-packages (from google-auth<2,>=1.6.3->tensorboard>=2.2.0->pytorch_lightning==1.1.4) (0.2.8)\n",
            "Collecting smmap<4,>=3.0.1\n",
            "  Downloading https://files.pythonhosted.org/packages/d5/1e/6130925131f639b2acde0f7f18b73e33ce082ff2d90783c436b52040af5a/smmap-3.0.5-py2.py3-none-any.whl\n",
            "Requirement already satisfied: oauthlib>=3.0.0 in /usr/local/lib/python3.7/dist-packages (from requests-oauthlib>=0.7.0->google-auth-oauthlib<0.5,>=0.4.1->tensorboard>=2.2.0->pytorch_lightning==1.1.4) (3.1.0)\n",
            "Requirement already satisfied: pyasn1>=0.1.3 in /usr/local/lib/python3.7/dist-packages (from rsa<5,>=3.1.4; python_version >= \"3.6\"->google-auth<2,>=1.6.3->tensorboard>=2.2.0->pytorch_lightning==1.1.4) (0.4.8)\n",
            "Building wheels for collected packages: future, subprocess32, pathtools\n",
            "  Building wheel for future (setup.py) ... \u001b[?25l\u001b[?25hdone\n",
            "  Created wheel for future: filename=future-0.18.2-cp37-none-any.whl size=491058 sha256=aca92690585d340f4dec465ff3a2d9d76e7a4112008ff578ef454cc92458c503\n",
            "  Stored in directory: /root/.cache/pip/wheels/8b/99/a0/81daf51dcd359a9377b110a8a886b3895921802d2fc1b2397e\n",
            "  Building wheel for subprocess32 (setup.py) ... \u001b[?25l\u001b[?25hdone\n",
            "  Created wheel for subprocess32: filename=subprocess32-3.5.4-cp37-none-any.whl size=6489 sha256=cc966e747ed5729251d19fddee78e37936a152f472e43c43100fa0d81543c413\n",
            "  Stored in directory: /root/.cache/pip/wheels/68/39/1a/5e402bdfdf004af1786c8b853fd92f8c4a04f22aad179654d1\n",
            "  Building wheel for pathtools (setup.py) ... \u001b[?25l\u001b[?25hdone\n",
            "  Created wheel for pathtools: filename=pathtools-0.1.2-cp37-none-any.whl size=8786 sha256=123e81bfe106abd4feaf5ce74980576b0b5f878930e54c0e8eaccf10a6b418c0\n",
            "  Stored in directory: /root/.cache/pip/wheels/0b/04/79/c3b0c3a0266a3cb4376da31e5bfe8bba0c489246968a68e843\n",
            "Successfully built future subprocess32 pathtools\n",
            "Installing collected packages: boltons, future, async-timeout, multidict, yarl, aiohttp, fsspec, PyYAML, pytorch-lightning, docker-pycreds, shortuuid, configparser, sentry-sdk, subprocess32, pathtools, smmap, gitdb, GitPython, wandb\n",
            "  Found existing installation: future 0.16.0\n",
            "    Uninstalling future-0.16.0:\n",
            "      Successfully uninstalled future-0.16.0\n",
            "  Found existing installation: PyYAML 3.13\n",
            "    Uninstalling PyYAML-3.13:\n",
            "      Successfully uninstalled PyYAML-3.13\n",
            "Successfully installed GitPython-3.1.14 PyYAML-5.4.1 aiohttp-3.7.4.post0 async-timeout-3.0.1 boltons-20.2.1 configparser-5.0.2 docker-pycreds-0.4.0 fsspec-0.8.7 future-0.18.2 gitdb-4.0.5 multidict-5.1.0 pathtools-0.1.2 pytorch-lightning-1.1.4 sentry-sdk-1.0.0 shortuuid-1.0.1 smmap-3.0.5 subprocess32-3.5.4 wandb-0.10.21 yarl-1.6.3\n",
            "env: PYTHONPATH=.:$PYTHONPATH\n"
          ],
          "name": "stdout"
        }
      ]
    },
    {
      "cell_type": "markdown",
      "metadata": {
        "id": "KTUsz0Wn4xG5"
      },
      "source": [
        "# Testing to make sure it is set up correctly"
      ]
    },
    {
      "cell_type": "code",
      "metadata": {
        "colab": {
          "base_uri": "https://localhost:8080/"
        },
        "id": "OyYX_HtBsjAE",
        "outputId": "4ee6b5b3-ddc0-41f6-eb46-b97a50f6dabc"
      },
      "source": [
        "% cd lab1/"
      ],
      "execution_count": 4,
      "outputs": [
        {
          "output_type": "stream",
          "text": [
            "/content/fsdl-text-recognizer-2021-labs/lab1\n"
          ],
          "name": "stdout"
        }
      ]
    },
    {
      "cell_type": "code",
      "metadata": {
        "colab": {
          "base_uri": "https://localhost:8080/"
        },
        "id": "PwyNcg-O4pFe",
        "outputId": "d4478126-0e45-4b5f-9c85-33e15fec41c5"
      },
      "source": [
        "# Train on CPU and report time taken\n",
        "import time\n",
        "t = time.time()\n",
        "\n",
        "\n",
        "! python training/run_experiment.py --max_epochs=3\n",
        "\n",
        "elapsed = time.time() - t\n",
        "print(\"CPU version \" + str(elapsed) + \" seconds\")\n",
        "\n"
      ],
      "execution_count": 15,
      "outputs": [
        {
          "output_type": "stream",
          "text": [
            "/usr/local/lib/python3.7/dist-packages/pytorch_lightning/utilities/distributed.py:49: UserWarning: You have set progress_bar_refresh_rate < 20 on Google Colab. This may crash. Consider using progress_bar_refresh_rate >= 20 in Trainer.\n",
            "  warnings.warn(*args, **kwargs)\n",
            "GPU available: True, used: False\n",
            "TPU available: None, using: 0 TPU cores\n",
            "/usr/local/lib/python3.7/dist-packages/pytorch_lightning/utilities/distributed.py:49: UserWarning: GPU available but not used. Set the --gpus flag when calling the script.\n",
            "  warnings.warn(*args, **kwargs)\n",
            "2021-03-08 03:50:58.048225: I tensorflow/stream_executor/platform/default/dso_loader.cc:49] Successfully opened dynamic library libcudart.so.11.0\n",
            "\n",
            "  | Name          | Type     | Params\n",
            "-------------------------------------------\n",
            "0 | model         | MLP      | 936 K \n",
            "1 | model.dropout | Dropout  | 0     \n",
            "2 | model.fc1     | Linear   | 803 K \n",
            "3 | model.fc2     | Linear   | 131 K \n",
            "4 | model.fc3     | Linear   | 1.3 K \n",
            "5 | train_acc     | Accuracy | 0     \n",
            "6 | val_acc       | Accuracy | 0     \n",
            "7 | test_acc      | Accuracy | 0     \n",
            "-------------------------------------------\n",
            "936 K     Trainable params\n",
            "0         Non-trainable params\n",
            "936 K     Total params\n",
            "Epoch 0:  91% 430/470 [00:16<00:01, 25.46it/s, loss=0.214, v_num=6, val_loss=2.33, val_acc=0.0664]\n",
            "Epoch 0:  92% 433/470 [00:16<00:01, 25.55it/s, loss=0.214, v_num=6, val_loss=2.33, val_acc=0.0664]\n",
            "Epoch 0:  93% 438/470 [00:17<00:01, 25.61it/s, loss=0.214, v_num=6, val_loss=2.33, val_acc=0.0664]\n",
            "Validating:  20% 8/40 [00:00<00:00, 32.30it/s]\u001b[A\n",
            "Epoch 0:  94% 443/470 [00:17<00:01, 25.67it/s, loss=0.214, v_num=6, val_loss=2.33, val_acc=0.0664]\n",
            "Epoch 0:  95% 448/470 [00:17<00:00, 25.73it/s, loss=0.214, v_num=6, val_loss=2.33, val_acc=0.0664]\n",
            "Epoch 0:  96% 453/470 [00:17<00:00, 25.80it/s, loss=0.214, v_num=6, val_loss=2.33, val_acc=0.0664]\n",
            "Epoch 0:  97% 458/470 [00:17<00:00, 25.88it/s, loss=0.214, v_num=6, val_loss=2.33, val_acc=0.0664]\n",
            "Validating:  70% 28/40 [00:00<00:00, 33.45it/s]\u001b[A\n",
            "Epoch 0:  99% 463/470 [00:17<00:00, 25.91it/s, loss=0.214, v_num=6, val_loss=2.33, val_acc=0.0664]\n",
            "Epoch 0: 100% 470/470 [00:18<00:00, 25.94it/s, loss=0.214, v_num=6, val_loss=0.162, val_acc=0.953]\n",
            "Epoch 1:  91% 430/470 [00:16<00:01, 25.41it/s, loss=0.165, v_num=6, val_loss=0.162, val_acc=0.953]\n",
            "Validating: 0it [00:00, ?it/s]\u001b[A\n",
            "Epoch 1:  93% 436/470 [00:17<00:01, 25.58it/s, loss=0.165, v_num=6, val_loss=0.162, val_acc=0.953]\n",
            "Epoch 1:  94% 442/470 [00:17<00:01, 25.71it/s, loss=0.165, v_num=6, val_loss=0.162, val_acc=0.953]\n",
            "Epoch 1:  95% 448/470 [00:17<00:00, 25.84it/s, loss=0.165, v_num=6, val_loss=0.162, val_acc=0.953]\n",
            "Validating:  48% 19/40 [00:00<00:00, 40.92it/s]\u001b[A\n",
            "Epoch 1:  97% 454/470 [00:17<00:00, 25.95it/s, loss=0.165, v_num=6, val_loss=0.162, val_acc=0.953]\n",
            "Epoch 1:  98% 460/470 [00:17<00:00, 26.05it/s, loss=0.165, v_num=6, val_loss=0.162, val_acc=0.953]\n",
            "Epoch 1:  99% 466/470 [00:17<00:00, 26.18it/s, loss=0.165, v_num=6, val_loss=0.162, val_acc=0.953]\n",
            "Epoch 1: 100% 470/470 [00:17<00:00, 26.22it/s, loss=0.165, v_num=6, val_loss=0.13, val_acc=0.963] \n",
            "Epoch 2:  91% 430/470 [00:17<00:01, 24.68it/s, loss=0.133, v_num=6, val_loss=0.13, val_acc=0.963]\n",
            "Epoch 2:  92% 432/470 [00:17<00:01, 24.75it/s, loss=0.133, v_num=6, val_loss=0.13, val_acc=0.963]\n",
            "Epoch 2:  93% 438/470 [00:17<00:01, 24.83it/s, loss=0.133, v_num=6, val_loss=0.13, val_acc=0.963]\n",
            "Validating:  20% 8/40 [00:00<00:00, 33.47it/s]\u001b[A\n",
            "Epoch 2:  94% 444/470 [00:17<00:01, 24.92it/s, loss=0.133, v_num=6, val_loss=0.13, val_acc=0.963]\n",
            "Epoch 2:  96% 450/470 [00:18<00:00, 24.99it/s, loss=0.133, v_num=6, val_loss=0.13, val_acc=0.963]\n",
            "Validating:  50% 20/40 [00:00<00:00, 33.10it/s]\u001b[A\n",
            "Epoch 2:  97% 456/470 [00:18<00:00, 25.10it/s, loss=0.133, v_num=6, val_loss=0.13, val_acc=0.963]\n",
            "Epoch 2:  98% 462/470 [00:18<00:00, 25.22it/s, loss=0.133, v_num=6, val_loss=0.13, val_acc=0.963]\n",
            "Validating:  82% 33/40 [00:00<00:00, 37.06it/s]\u001b[A\n",
            "Epoch 2: 100% 470/470 [00:18<00:00, 25.34it/s, loss=0.133, v_num=6, val_loss=0.105, val_acc=0.969]\n",
            "Epoch 2: 100% 470/470 [00:18<00:00, 25.31it/s, loss=0.133, v_num=6, val_loss=0.105, val_acc=0.969]\n",
            "Testing: 100% 79/79 [00:01<00:00, 40.93it/s]\n",
            "--------------------------------------------------------------------------------\n",
            "DATALOADER:0 TEST RESULTS\n",
            "{'test_acc': tensor(0.9709)}\n",
            "--------------------------------------------------------------------------------\n",
            "CPU version 62.94988012313843seconds\n"
          ],
          "name": "stdout"
        }
      ]
    },
    {
      "cell_type": "code",
      "metadata": {
        "colab": {
          "base_uri": "https://localhost:8080/"
        },
        "id": "3U0SSqA15D_g",
        "outputId": "1f882b10-6a7e-441d-c7c3-fcf819da0228"
      },
      "source": [
        "# Train on GPU and report time taken\n",
        "import time\n",
        "t = time.time()\n",
        "\n",
        "\n",
        "! python training/run_experiment.py --max_epochs=3 --gpus=-1\n",
        "\n",
        "elapsed = time.time() - t\n",
        "print(\"GPU version \" + str(elapsed) + \" seconds\")\n",
        "print(\"The inefficiency here is due to batch size. We only use about 1% of the GPU with default settings.\")\n"
      ],
      "execution_count": 18,
      "outputs": [
        {
          "output_type": "stream",
          "text": [
            "/usr/local/lib/python3.7/dist-packages/pytorch_lightning/utilities/distributed.py:49: UserWarning: You have set progress_bar_refresh_rate < 20 on Google Colab. This may crash. Consider using progress_bar_refresh_rate >= 20 in Trainer.\n",
            "  warnings.warn(*args, **kwargs)\n",
            "GPU available: True, used: True\n",
            "TPU available: None, using: 0 TPU cores\n",
            "LOCAL_RANK: 0 - CUDA_VISIBLE_DEVICES: [0]\n",
            "2021-03-08 03:54:43.729812: I tensorflow/stream_executor/platform/default/dso_loader.cc:49] Successfully opened dynamic library libcudart.so.11.0\n",
            "\n",
            "  | Name          | Type     | Params\n",
            "-------------------------------------------\n",
            "0 | model         | MLP      | 936 K \n",
            "1 | model.dropout | Dropout  | 0     \n",
            "2 | model.fc1     | Linear   | 803 K \n",
            "3 | model.fc2     | Linear   | 131 K \n",
            "4 | model.fc3     | Linear   | 1.3 K \n",
            "5 | train_acc     | Accuracy | 0     \n",
            "6 | val_acc       | Accuracy | 0     \n",
            "7 | test_acc      | Accuracy | 0     \n",
            "-------------------------------------------\n",
            "936 K     Trainable params\n",
            "0         Non-trainable params\n",
            "936 K     Total params\n",
            "Epoch 0:  91% 430/470 [00:10<00:00, 41.82it/s, loss=0.21, v_num=8, val_loss=2.33, val_acc=0.0664] \n",
            "Epoch 0:  93% 435/470 [00:10<00:00, 41.89it/s, loss=0.21, v_num=8, val_loss=2.33, val_acc=0.0664]\n",
            "Validating:  12% 5/40 [00:00<00:00, 39.21it/s]\u001b[A\n",
            "Epoch 0:  94% 441/470 [00:10<00:00, 41.87it/s, loss=0.21, v_num=8, val_loss=2.33, val_acc=0.0664]\n",
            "Epoch 0:  95% 447/470 [00:10<00:00, 41.81it/s, loss=0.21, v_num=8, val_loss=2.33, val_acc=0.0664]\n",
            "Epoch 0:  96% 453/470 [00:10<00:00, 41.83it/s, loss=0.21, v_num=8, val_loss=2.33, val_acc=0.0664]\n",
            "Validating:  60% 24/40 [00:00<00:00, 40.41it/s]\u001b[A\n",
            "Epoch 0:  98% 459/470 [00:10<00:00, 41.79it/s, loss=0.21, v_num=8, val_loss=2.33, val_acc=0.0664]\n",
            "Epoch 0:  99% 465/470 [00:11<00:00, 41.77it/s, loss=0.21, v_num=8, val_loss=2.33, val_acc=0.0664]\n",
            "Epoch 0: 100% 470/470 [00:11<00:00, 41.48it/s, loss=0.21, v_num=8, val_loss=0.161, val_acc=0.954]\n",
            "Epoch 1:  91% 430/470 [00:10<00:01, 39.25it/s, loss=0.165, v_num=8, val_loss=0.161, val_acc=0.954]\n",
            "Epoch 1:  92% 433/470 [00:10<00:00, 39.38it/s, loss=0.165, v_num=8, val_loss=0.161, val_acc=0.954]\n",
            "Epoch 1:  94% 440/470 [00:11<00:00, 39.51it/s, loss=0.165, v_num=8, val_loss=0.161, val_acc=0.954]\n",
            "Validating:  28% 11/40 [00:00<00:00, 50.19it/s]\u001b[A\n",
            "Epoch 1:  95% 447/470 [00:11<00:00, 39.60it/s, loss=0.165, v_num=8, val_loss=0.161, val_acc=0.954]\n",
            "Epoch 1:  97% 454/470 [00:11<00:00, 39.60it/s, loss=0.165, v_num=8, val_loss=0.161, val_acc=0.954]\n",
            "Epoch 1:  98% 461/470 [00:11<00:00, 39.74it/s, loss=0.165, v_num=8, val_loss=0.161, val_acc=0.954]\n",
            "Validating:  78% 31/40 [00:00<00:00, 46.52it/s]\u001b[A\n",
            "Epoch 1: 100% 470/470 [00:11<00:00, 39.74it/s, loss=0.165, v_num=8, val_loss=0.116, val_acc=0.966]\n",
            "Epoch 2:  91% 430/470 [00:11<00:01, 38.61it/s, loss=0.134, v_num=8, val_loss=0.116, val_acc=0.966]\n",
            "Epoch 2:  92% 434/470 [00:11<00:00, 38.76it/s, loss=0.134, v_num=8, val_loss=0.116, val_acc=0.966]\n",
            "Epoch 2:  94% 441/470 [00:11<00:00, 38.91it/s, loss=0.134, v_num=8, val_loss=0.116, val_acc=0.966]\n",
            "Validating:  30% 12/40 [00:00<00:00, 50.63it/s]\u001b[A\n",
            "Epoch 2:  95% 448/470 [00:11<00:00, 39.01it/s, loss=0.134, v_num=8, val_loss=0.116, val_acc=0.966]\n",
            "Epoch 2:  97% 455/470 [00:11<00:00, 39.05it/s, loss=0.134, v_num=8, val_loss=0.116, val_acc=0.966]\n",
            "Epoch 2:  98% 462/470 [00:11<00:00, 39.17it/s, loss=0.134, v_num=8, val_loss=0.116, val_acc=0.966]\n",
            "Validating:  80% 32/40 [00:00<00:00, 47.17it/s]\u001b[A\n",
            "Epoch 2: 100% 470/470 [00:12<00:00, 39.16it/s, loss=0.134, v_num=8, val_loss=0.114, val_acc=0.968]\n",
            "Epoch 2: 100% 470/470 [00:12<00:00, 39.05it/s, loss=0.134, v_num=8, val_loss=0.114, val_acc=0.968]\n",
            "Testing: 100% 79/79 [00:01<00:00, 48.43it/s]\n",
            "--------------------------------------------------------------------------------\n",
            "DATALOADER:0 TEST RESULTS\n",
            "{'test_acc': tensor(0.9717, device='cuda:0')}\n",
            "--------------------------------------------------------------------------------\n",
            "GPU version 43.164196252822876seconds\n",
            "The inefficiency here is due to batch size. We only use about 1% of the GPU with default settings.\n"
          ],
          "name": "stdout"
        }
      ]
    }
  ]
}